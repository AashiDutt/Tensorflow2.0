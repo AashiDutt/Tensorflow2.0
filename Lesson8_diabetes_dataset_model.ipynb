{
 "cells": [
  {
   "cell_type": "code",
   "execution_count": 1,
   "metadata": {
    "scrolled": true
   },
   "outputs": [
    {
     "name": "stdout",
     "output_type": "stream",
     "text": [
      "2.0.0\n"
     ]
    }
   ],
   "source": [
    "import tensorflow as tf\n",
    "print(tf.__version__)"
   ]
  },
  {
   "cell_type": "markdown",
   "metadata": {},
   "source": [
    "# Validation, regularisation and callbacks"
   ]
  },
  {
   "cell_type": "markdown",
   "metadata": {},
   "source": [
    " ## Coding tutorials\n",
    " #### [1. Validation sets](#coding_tutorial_1)\n",
    " #### [2. Model regularisation](#coding_tutorial_2)\n",
    " #### [3. Introduction to callbacks](#coding_tutorial_3)\n",
    " #### [4. Early stopping / patience](#coding_tutorial_4)"
   ]
  },
  {
   "cell_type": "markdown",
   "metadata": {},
   "source": [
    "***\n",
    "<a id=\"coding_tutorial_1\"></a>\n",
    "## Validation sets"
   ]
  },
  {
   "cell_type": "markdown",
   "metadata": {},
   "source": [
    "#### Load the data"
   ]
  },
  {
   "cell_type": "code",
   "execution_count": 2,
   "metadata": {},
   "outputs": [
    {
     "name": "stdout",
     "output_type": "stream",
     "text": [
      ".. _diabetes_dataset:\n",
      "\n",
      "Diabetes dataset\n",
      "----------------\n",
      "\n",
      "Ten baseline variables, age, sex, body mass index, average blood\n",
      "pressure, and six blood serum measurements were obtained for each of n =\n",
      "442 diabetes patients, as well as the response of interest, a\n",
      "quantitative measure of disease progression one year after baseline.\n",
      "\n",
      "**Data Set Characteristics:**\n",
      "\n",
      "  :Number of Instances: 442\n",
      "\n",
      "  :Number of Attributes: First 10 columns are numeric predictive values\n",
      "\n",
      "  :Target: Column 11 is a quantitative measure of disease progression one year after baseline\n",
      "\n",
      "  :Attribute Information:\n",
      "      - Age\n",
      "      - Sex\n",
      "      - Body mass index\n",
      "      - Average blood pressure\n",
      "      - S1\n",
      "      - S2\n",
      "      - S3\n",
      "      - S4\n",
      "      - S5\n",
      "      - S6\n",
      "\n",
      "Note: Each of these 10 feature variables have been mean centered and scaled by the standard deviation times `n_samples` (i.e. the sum of squares of each column totals 1).\n",
      "\n",
      "Source URL:\n",
      "http://www4.stat.ncsu.edu/~boos/var.select/diabetes.html\n",
      "\n",
      "For more information see:\n",
      "Bradley Efron, Trevor Hastie, Iain Johnstone and Robert Tibshirani (2004) \"Least Angle Regression,\" Annals of Statistics (with discussion), 407-499.\n",
      "(http://web.stanford.edu/~hastie/Papers/LARS/LeastAngle_2002.pdf)\n"
     ]
    }
   ],
   "source": [
    "# Load the diabetes dataset\n",
    "from sklearn.datasets import load_diabetes\n",
    "diabetes_dataset = load_diabetes()\n",
    "print(diabetes_dataset[\"DESCR\"])\n"
   ]
  },
  {
   "cell_type": "code",
   "execution_count": 3,
   "metadata": {},
   "outputs": [
    {
     "name": "stdout",
     "output_type": "stream",
     "text": [
      "dict_keys(['data', 'target', 'DESCR', 'feature_names', 'data_filename', 'target_filename'])\n"
     ]
    }
   ],
   "source": [
    "# Save the input and target variables\n",
    "\n",
    "print(diabetes_dataset.keys())\n",
    "data = diabetes_dataset[\"data\"]\n",
    "targets = diabetes_dataset[\"target\"]"
   ]
  },
  {
   "cell_type": "code",
   "execution_count": 4,
   "metadata": {},
   "outputs": [
    {
     "data": {
      "text/plain": [
       "array([-1.47194752e-02, -1.00165882e+00, -1.44579915e-01,  6.99512942e-01,\n",
       "       -2.22496178e-01, -7.15965848e-01, -1.83538046e-01, -1.15749134e+00,\n",
       "       -5.47147277e-01,  2.05006151e+00, -6.64021672e-01, -1.07957508e+00,\n",
       "        3.48889755e-01,  4.26806019e-01, -4.43258925e-01,  2.45001404e-01,\n",
       "        1.80071184e-01, -1.05621783e-01, -7.15965848e-01,  2.06043272e-01,\n",
       "       -1.09256112e+00, -1.33929596e+00, -1.09256112e+00,  1.20596866e+00,\n",
       "        4.13819975e-01,  6.47568766e-01, -1.96524090e-01, -8.71798376e-01,\n",
       "       -2.74440354e-01,  1.69943833e+00, -3.00412442e-01, -1.20943552e+00,\n",
       "        2.45262887e+00, -8.45826288e-01, -1.13151925e+00, -6.51035629e-01,\n",
       "        1.46568953e+00,  1.60853602e+00,  1.29687096e+00, -8.06868156e-01,\n",
       "       -6.77007716e-01, -1.26137969e+00, -1.18346343e+00, -7.80896068e-01,\n",
       "        1.38777327e+00, -1.28735178e+00,  4.91736239e-01, -1.31593871e-01,\n",
       "       -1.00165882e+00, -1.31593871e-01,  3.72247006e-02,  9.46247777e-01,\n",
       "       -1.20943552e+00, -6.25063541e-01,  3.87847887e-01, -3.13398486e-01,\n",
       "       -1.30033783e+00, -1.49512849e+00,  2.32015360e-01,  2.32015360e-01,\n",
       "       -1.18346343e+00, -1.05621783e-01, -1.30033783e+00, -3.13398486e-01,\n",
       "       -1.05360299e+00,  1.41113052e-01, -2.77055191e-02, -7.15965848e-01,\n",
       "        1.02154920e-01,  3.35903711e-01, -1.35228200e+00,  1.53061975e+00,\n",
       "        6.47568766e-01, -5.34161233e-01, -8.71798376e-01, -1.43019827e+00,\n",
       "        2.32015360e-01,  6.21596678e-01,  1.29687096e+00, -5.08189145e-01,\n",
       "       -1.18607827e-01, -1.31332387e+00, -1.30033783e+00,  7.51457118e-01,\n",
       "       -1.13151925e+00, -1.44579915e-01, -1.26137969e+00, -2.35482222e-01,\n",
       "       -1.43019827e+00, -5.34161233e-01, -7.02979804e-01,  1.54099096e-01,\n",
       "       -1.35228200e+00, -7.28951892e-01, -8.06868156e-01,  1.28127008e-01,\n",
       "       -2.77055191e-02,  1.64749415e+00, -7.80896068e-01, -8.97770464e-01,\n",
       "       -3.13398486e-01, -6.51035629e-01,  1.94617316e+00,  5.95624590e-01,\n",
       "       -7.41937936e-01, -1.28735178e+00, -2.35482222e-01, -1.05621783e-01,\n",
       "        1.03715008e+00, -9.23742551e-01, -6.25063541e-01, -1.20943552e+00,\n",
       "        1.21895470e+00,  1.88124294e+00,  1.37478723e+00,  9.98191953e-01,\n",
       "        1.59554997e+00,  1.67346624e+00,  3.48889755e-01,  6.21596678e-01,\n",
       "        6.21596678e-01,  2.70973492e-01,  3.61875799e-01, -8.84784420e-01,\n",
       "       -4.04300794e-01,  1.15140964e-01, -6.89993760e-01, -5.60133321e-01,\n",
       "       -4.82217057e-01,  1.50464767e+00,  1.58256393e+00,  7.61828325e-02,\n",
       "       -5.86105409e-01, -8.97770464e-01, -6.38049585e-01,  1.55659184e+00,\n",
       "       -8.71798376e-01,  1.66048019e+00,  2.38769865e+00,  1.67346624e+00,\n",
       "       -4.43258925e-01,  2.14096382e+00,  1.07610822e+00, -1.19644947e+00,\n",
       "        2.83959536e-01,  1.38777327e+00,  3.35903711e-01, -3.13398486e-01,\n",
       "       -7.28951892e-01, -3.39370574e-01,  1.76436855e+00, -8.32840244e-01,\n",
       "        1.81631272e+00, -1.05360299e+00,  5.82638546e-01,  4.39792063e-01,\n",
       "       -1.65096101e+00, -8.84784420e-01, -7.28951892e-01,  5.56666458e-01,\n",
       "       -1.28735178e+00,  8.42359425e-01,  2.57987448e-01, -2.74440354e-01,\n",
       "        8.03401293e-01, -1.20943552e+00, -1.06658903e+00,  8.81317557e-01,\n",
       "        1.50464767e+00, -1.73343121e-03, -1.36526805e+00, -1.01464486e+00,\n",
       "        1.85527085e+00, -6.64021672e-01, -1.47194752e-02, -3.26384530e-01,\n",
       "        1.10208030e+00,  9.46247777e-01, -9.23742551e-01, -1.47194752e-02,\n",
       "       -5.86105409e-01, -1.14450530e+00, -1.83538046e-01,  4.26806019e-01,\n",
       "        1.46568953e+00, -6.64021672e-01, -1.96524090e-01, -1.18607827e-01,\n",
       "       -1.44579915e-01, -9.49714639e-01,  1.81631272e+00,  3.35903711e-01,\n",
       "       -7.93882112e-01, -4.69231013e-01, -8.58812332e-01, -3.91314750e-01,\n",
       "       -1.04061695e+00, -3.00412442e-01, -1.31593871e-01, -8.06868156e-01,\n",
       "        7.61828325e-02, -1.46915640e+00,  5.69652502e-01,  9.07289645e-01,\n",
       "        1.62152206e+00, -6.89993760e-01,  5.69652502e-01,  6.47568766e-01,\n",
       "        3.72247006e-02, -9.75686727e-01,  5.04722283e-01, -1.06658903e+00,\n",
       "       -1.02763090e+00, -1.33929596e+00, -1.13151925e+00,  1.43971745e+00,\n",
       "        1.24492679e+00,  1.86825690e+00,  8.03401293e-01,  4.26806019e-01,\n",
       "       -9.62700683e-01, -7.67910024e-01,  1.29687096e+00, -2.77055191e-02,\n",
       "       -9.75686727e-01,  7.25485030e-01, -9.75686727e-01, -5.73119365e-01,\n",
       "        1.02154920e-01, -1.28735178e+00,  8.81317557e-01,  2.42386567e-02,\n",
       "        1.38777327e+00, -8.06868156e-01,  1.21895470e+00, -3.65342662e-01,\n",
       "       -1.10554717e+00, -1.04061695e+00,  1.36180118e+00,  1.42673140e+00,\n",
       "        1.59554997e+00,  3.22917667e-01, -1.05360299e+00, -1.36526805e+00,\n",
       "        4.52778107e-01, -3.52356618e-01, -9.62700683e-01, -1.31332387e+00,\n",
       "        1.37478723e+00,  8.16387337e-01,  1.95915920e+00,  1.17999657e+00,\n",
       "       -7.93882112e-01, -2.77055191e-02,  2.05006151e+00,  1.12526127e-02,\n",
       "        2.51755909e+00, -1.15749134e+00, -8.19854200e-01, -1.32630991e+00,\n",
       "       -1.46915640e+00, -6.38049585e-01,  2.02408942e+00, -4.69231013e-01,\n",
       "       -9.26357388e-02, -1.01464486e+00, -1.39124013e+00, -4.82217057e-01,\n",
       "        1.45270349e+00, -8.45826288e-01,  6.47568766e-01, -3.26384530e-01,\n",
       "        3.87847887e-01,  1.15402448e+00, -1.11853321e+00, -7.54923980e-01,\n",
       "        1.69943833e+00, -1.14450530e+00, -6.51035629e-01,  6.21596678e-01,\n",
       "        1.46568953e+00, -7.54923980e-01,  1.01117800e+00,  3.74861843e-01,\n",
       "        5.02107446e-02,  1.05013613e+00, -1.19644947e+00,  8.68331513e-01,\n",
       "       -9.36728595e-01, -1.09256112e+00,  2.33575448e+00,  1.24492679e+00,\n",
       "       -8.84784420e-01,  6.21596678e-01, -1.26137969e+00, -8.71798376e-01,\n",
       "       -8.19854200e-01, -1.57304475e+00, -3.00412442e-01, -8.97770464e-01,\n",
       "        1.59554997e+00, -1.13151925e+00,  5.95624590e-01,  1.08909426e+00,\n",
       "        1.30985701e+00, -3.65342662e-01, -1.40422618e+00,  2.57987448e-01,\n",
       "       -4.95203101e-01, -1.31593871e-01, -5.60133321e-01,  3.61875799e-01,\n",
       "       -1.05621783e-01,  1.41113052e-01, -6.66636509e-02, -7.15965848e-01,\n",
       "        8.81317557e-01,  4.91736239e-01, -5.60133321e-01,  5.04722283e-01,\n",
       "       -3.91314750e-01,  1.01117800e+00,  1.16701052e+00,  1.24492679e+00,\n",
       "        1.25791283e+00,  5.17708327e-01, -2.74440354e-01,  1.10208030e+00,\n",
       "       -9.62700683e-01, -2.22496178e-01,  1.19298261e+00,  6.08610634e-01,\n",
       "        1.53061975e+00,  1.54099096e-01, -1.04061695e+00, -7.28951892e-01,\n",
       "        1.99811734e+00, -7.93882112e-01,  8.03401293e-01, -7.41937936e-01,\n",
       "        8.29373381e-01,  1.43971745e+00,  3.35903711e-01, -5.08189145e-01,\n",
       "        6.21596678e-01, -1.70552003e-01, -1.70552003e-01, -8.32840244e-01,\n",
       "       -5.36776070e-02, -8.32840244e-01,  1.17999657e+00, -1.05360299e+00,\n",
       "       -9.75686727e-01, -5.60133321e-01,  1.55659184e+00, -1.19644947e+00,\n",
       "       -1.27436574e+00,  8.94303601e-01, -8.06868156e-01,  2.06304756e+00,\n",
       "        1.67346624e+00,  3.87847887e-01,  2.19290800e+00, -1.22242156e+00,\n",
       "        1.42673140e+00,  6.99512942e-01,  1.05013613e+00,  1.16701052e+00,\n",
       "       -3.78328706e-01,  1.93057228e-01, -1.15749134e+00,  5.82638546e-01,\n",
       "       -1.05360299e+00,  2.06043272e-01, -1.57565959e-01,  8.42359425e-01,\n",
       "       -4.04300794e-01,  1.07610822e+00,  1.20596866e+00, -1.45617035e+00,\n",
       "       -1.30033783e+00, -6.25063541e-01, -2.61454310e-01, -8.32840244e-01,\n",
       "       -1.07957508e+00,  8.68331513e-01, -1.04061695e+00,  6.34582722e-01,\n",
       "       -5.47147277e-01, -1.31332387e+00,  1.62152206e+00, -1.15749134e+00,\n",
       "       -4.43258925e-01, -1.07957508e+00,  1.56957789e+00,  1.37478723e+00,\n",
       "       -1.41721222e+00,  5.95624590e-01,  1.16701052e+00,  1.03715008e+00,\n",
       "        2.96945580e-01, -7.67910024e-01,  2.06043272e-01,  1.59554997e+00,\n",
       "        1.82929877e+00,  1.67346624e+00, -1.04061695e+00, -1.57565959e-01,\n",
       "        4.78750195e-01,  3.74861843e-01,  7.38471074e-01, -2.09510134e-01,\n",
       "        1.41374536e+00, -5.08189145e-01, -2.74440354e-01,  2.83959536e-01,\n",
       "        1.36180118e+00, -1.26137969e+00, -8.84784420e-01, -1.43019827e+00,\n",
       "       -7.96496949e-02,  7.77429206e-01,  1.05013613e+00, -7.93882112e-01,\n",
       "       -5.34161233e-01, -1.73343121e-03, -4.17286837e-01, -1.10554717e+00,\n",
       "        2.05006151e+00, -7.54923980e-01,  4.00833931e-01, -1.11853321e+00,\n",
       "        2.70973492e-01, -1.04061695e+00, -1.33929596e+00, -1.14450530e+00,\n",
       "       -1.35228200e+00,  3.35903711e-01, -6.25063541e-01, -2.61454310e-01,\n",
       "        8.81317557e-01, -1.23540761e+00])"
      ]
     },
     "execution_count": 4,
     "metadata": {},
     "output_type": "execute_result"
    }
   ],
   "source": [
    "# Normalise the target data (this will make clearer training curves)\n",
    "\n",
    "targets = (targets - targets.mean(axis=0))/targets.std()\n",
    "targets"
   ]
  },
  {
   "cell_type": "code",
   "execution_count": 5,
   "metadata": {
    "scrolled": true
   },
   "outputs": [
    {
     "name": "stdout",
     "output_type": "stream",
     "text": [
      "(397, 10)\n",
      "(45, 10)\n",
      "(397,)\n",
      "(45,)\n"
     ]
    }
   ],
   "source": [
    "# Split the data into train and test sets\n",
    "\n",
    "from sklearn.model_selection import train_test_split\n",
    "train_data, test_data, train_targets, test_targets = train_test_split(data, targets, test_size= 0.1)\n",
    "\n",
    "print(train_data.shape)\n",
    "print(test_data.shape)\n",
    "print(train_targets.shape)\n",
    "print(test_targets.shape)"
   ]
  },
  {
   "cell_type": "markdown",
   "metadata": {},
   "source": [
    "#### Train a feedforward neural network model"
   ]
  },
  {
   "cell_type": "code",
   "execution_count": 6,
   "metadata": {},
   "outputs": [],
   "source": [
    "# Build the model\n",
    "\n",
    "from tensorflow.keras.models import Sequential\n",
    "from tensorflow.keras.layers import Dense, Dropout\n",
    "\n",
    "def get_model():\n",
    "    model = Sequential([\n",
    "        Dense(128, activation =\"relu\", input_shape=(train_data.shape[1],)),\n",
    "        Dense(128, activation =\"relu\"),\n",
    "        Dense(128, activation =\"relu\"),\n",
    "        Dense(128, activation =\"relu\"),\n",
    "        Dense(128, activation =\"relu\"),\n",
    "        Dense(128, activation =\"relu\"),\n",
    "        Dense(1)\n",
    "    ])\n",
    "    return model\n",
    "\n",
    "model = get_model()\n"
   ]
  },
  {
   "cell_type": "code",
   "execution_count": 7,
   "metadata": {},
   "outputs": [
    {
     "name": "stdout",
     "output_type": "stream",
     "text": [
      "Model: \"sequential\"\n",
      "_________________________________________________________________\n",
      "Layer (type)                 Output Shape              Param #   \n",
      "=================================================================\n",
      "dense (Dense)                (None, 128)               1408      \n",
      "_________________________________________________________________\n",
      "dense_1 (Dense)              (None, 128)               16512     \n",
      "_________________________________________________________________\n",
      "dense_2 (Dense)              (None, 128)               16512     \n",
      "_________________________________________________________________\n",
      "dense_3 (Dense)              (None, 128)               16512     \n",
      "_________________________________________________________________\n",
      "dense_4 (Dense)              (None, 128)               16512     \n",
      "_________________________________________________________________\n",
      "dense_5 (Dense)              (None, 128)               16512     \n",
      "_________________________________________________________________\n",
      "dense_6 (Dense)              (None, 1)                 129       \n",
      "=================================================================\n",
      "Total params: 84,097\n",
      "Trainable params: 84,097\n",
      "Non-trainable params: 0\n",
      "_________________________________________________________________\n"
     ]
    }
   ],
   "source": [
    "# Print the model summary\n",
    "model.summary()\n"
   ]
  },
  {
   "cell_type": "code",
   "execution_count": 8,
   "metadata": {},
   "outputs": [],
   "source": [
    "# Compile the model\n",
    "\n",
    "model.compile(\n",
    "    Optimizer ='Adam',\n",
    "    loss = 'mse',\n",
    "    metric=['mae']\n",
    ")"
   ]
  },
  {
   "cell_type": "code",
   "execution_count": 9,
   "metadata": {},
   "outputs": [
    {
     "name": "stdout",
     "output_type": "stream",
     "text": [
      "Train on 198 samples, validate on 199 samples\n",
      "Epoch 1/100\n",
      "198/198 - 2s - loss: 0.9512 - val_loss: 1.0792\n",
      "Epoch 2/100\n",
      "198/198 - 0s - loss: 0.8330 - val_loss: 0.9143\n",
      "Epoch 3/100\n",
      "198/198 - 0s - loss: 0.6067 - val_loss: 0.6137\n",
      "Epoch 4/100\n",
      "198/198 - 0s - loss: 0.5029 - val_loss: 0.8188\n",
      "Epoch 5/100\n",
      "198/198 - 0s - loss: 0.6308 - val_loss: 0.5551\n",
      "Epoch 6/100\n",
      "198/198 - 0s - loss: 0.4807 - val_loss: 0.6121\n",
      "Epoch 7/100\n",
      "198/198 - 0s - loss: 0.4661 - val_loss: 0.8526\n",
      "Epoch 8/100\n",
      "198/198 - 0s - loss: 0.6529 - val_loss: 0.6779\n",
      "Epoch 9/100\n",
      "198/198 - 0s - loss: 0.4478 - val_loss: 0.5887\n",
      "Epoch 10/100\n",
      "198/198 - 0s - loss: 0.4754 - val_loss: 0.5916\n",
      "Epoch 11/100\n",
      "198/198 - 0s - loss: 0.5301 - val_loss: 0.7376\n",
      "Epoch 12/100\n",
      "198/198 - 0s - loss: 0.4491 - val_loss: 0.7692\n",
      "Epoch 13/100\n",
      "198/198 - 0s - loss: 0.4945 - val_loss: 0.8256\n",
      "Epoch 14/100\n",
      "198/198 - 0s - loss: 0.4978 - val_loss: 0.6308\n",
      "Epoch 15/100\n",
      "198/198 - 0s - loss: 0.4154 - val_loss: 0.9047\n",
      "Epoch 16/100\n",
      "198/198 - 0s - loss: 0.6541 - val_loss: 0.6222\n",
      "Epoch 17/100\n",
      "198/198 - 0s - loss: 0.4243 - val_loss: 0.5740\n",
      "Epoch 18/100\n",
      "198/198 - 0s - loss: 0.4030 - val_loss: 0.5216\n",
      "Epoch 19/100\n",
      "198/198 - 0s - loss: 0.4545 - val_loss: 0.5584\n",
      "Epoch 20/100\n",
      "198/198 - 0s - loss: 0.4030 - val_loss: 0.6226\n",
      "Epoch 21/100\n",
      "198/198 - 0s - loss: 0.4281 - val_loss: 0.5216\n",
      "Epoch 22/100\n",
      "198/198 - 0s - loss: 0.4450 - val_loss: 0.6682\n",
      "Epoch 23/100\n",
      "198/198 - 0s - loss: 0.5011 - val_loss: 0.6495\n",
      "Epoch 24/100\n",
      "198/198 - 0s - loss: 0.4129 - val_loss: 0.8676\n",
      "Epoch 25/100\n",
      "198/198 - 0s - loss: 0.4620 - val_loss: 0.5585\n",
      "Epoch 26/100\n",
      "198/198 - 0s - loss: 0.4225 - val_loss: 0.5634\n",
      "Epoch 27/100\n",
      "198/198 - 0s - loss: 0.3812 - val_loss: 0.9708\n",
      "Epoch 28/100\n",
      "198/198 - 0s - loss: 0.4911 - val_loss: 0.5624\n",
      "Epoch 29/100\n",
      "198/198 - 0s - loss: 0.3937 - val_loss: 0.5940\n",
      "Epoch 30/100\n",
      "198/198 - 0s - loss: 0.4448 - val_loss: 0.6905\n",
      "Epoch 31/100\n",
      "198/198 - 0s - loss: 0.4012 - val_loss: 0.5366\n",
      "Epoch 32/100\n",
      "198/198 - 0s - loss: 0.3732 - val_loss: 0.8920\n",
      "Epoch 33/100\n",
      "198/198 - 0s - loss: 0.4499 - val_loss: 0.5400\n",
      "Epoch 34/100\n",
      "198/198 - 0s - loss: 0.3541 - val_loss: 0.9202\n",
      "Epoch 35/100\n",
      "198/198 - 0s - loss: 0.4571 - val_loss: 0.5418\n",
      "Epoch 36/100\n",
      "198/198 - 0s - loss: 0.3710 - val_loss: 0.5185\n",
      "Epoch 37/100\n",
      "198/198 - 0s - loss: 0.3675 - val_loss: 0.6636\n",
      "Epoch 38/100\n",
      "198/198 - 0s - loss: 0.3416 - val_loss: 0.7851\n",
      "Epoch 39/100\n",
      "198/198 - 0s - loss: 0.4337 - val_loss: 0.5753\n",
      "Epoch 40/100\n",
      "198/198 - 0s - loss: 0.3817 - val_loss: 0.5803\n",
      "Epoch 41/100\n",
      "198/198 - 0s - loss: 0.3466 - val_loss: 0.7201\n",
      "Epoch 42/100\n",
      "198/198 - 0s - loss: 0.3615 - val_loss: 0.5662\n",
      "Epoch 43/100\n",
      "198/198 - 0s - loss: 0.4072 - val_loss: 0.6351\n",
      "Epoch 44/100\n",
      "198/198 - 0s - loss: 0.3190 - val_loss: 0.5775\n",
      "Epoch 45/100\n",
      "198/198 - 0s - loss: 0.3346 - val_loss: 0.8177\n",
      "Epoch 46/100\n",
      "198/198 - 0s - loss: 0.3686 - val_loss: 0.5205\n",
      "Epoch 47/100\n",
      "198/198 - 0s - loss: 0.3174 - val_loss: 0.6267\n",
      "Epoch 48/100\n",
      "198/198 - 0s - loss: 0.3800 - val_loss: 0.5330\n",
      "Epoch 49/100\n",
      "198/198 - 0s - loss: 0.3013 - val_loss: 0.9374\n",
      "Epoch 50/100\n",
      "198/198 - 0s - loss: 0.3672 - val_loss: 0.5384\n",
      "Epoch 51/100\n",
      "198/198 - 0s - loss: 0.2819 - val_loss: 0.6900\n",
      "Epoch 52/100\n",
      "198/198 - 0s - loss: 0.3397 - val_loss: 0.7367\n",
      "Epoch 53/100\n",
      "198/198 - 0s - loss: 0.3374 - val_loss: 0.6217\n",
      "Epoch 54/100\n",
      "198/198 - 0s - loss: 0.3010 - val_loss: 0.6338\n",
      "Epoch 55/100\n",
      "198/198 - 0s - loss: 0.2668 - val_loss: 0.8837\n",
      "Epoch 56/100\n",
      "198/198 - 0s - loss: 0.3228 - val_loss: 0.6775\n",
      "Epoch 57/100\n",
      "198/198 - 0s - loss: 0.2642 - val_loss: 0.5832\n",
      "Epoch 58/100\n",
      "198/198 - 0s - loss: 0.4144 - val_loss: 0.6718\n",
      "Epoch 59/100\n",
      "198/198 - 0s - loss: 0.2563 - val_loss: 0.5929\n",
      "Epoch 60/100\n",
      "198/198 - 0s - loss: 0.3780 - val_loss: 0.5847\n",
      "Epoch 61/100\n",
      "198/198 - 0s - loss: 0.2355 - val_loss: 0.8233\n",
      "Epoch 62/100\n",
      "198/198 - 0s - loss: 0.2438 - val_loss: 1.0399\n",
      "Epoch 63/100\n",
      "198/198 - 0s - loss: 0.3610 - val_loss: 0.5664\n",
      "Epoch 64/100\n",
      "198/198 - 0s - loss: 0.2339 - val_loss: 0.8526\n",
      "Epoch 65/100\n",
      "198/198 - 0s - loss: 0.2631 - val_loss: 0.6293\n",
      "Epoch 66/100\n",
      "198/198 - 0s - loss: 0.2436 - val_loss: 0.8192\n",
      "Epoch 67/100\n",
      "198/198 - 0s - loss: 0.4201 - val_loss: 0.5814\n",
      "Epoch 68/100\n",
      "198/198 - 0s - loss: 0.2495 - val_loss: 0.8266\n",
      "Epoch 69/100\n",
      "198/198 - 0s - loss: 0.2587 - val_loss: 0.6483\n",
      "Epoch 70/100\n",
      "198/198 - 0s - loss: 0.1909 - val_loss: 0.7320\n",
      "Epoch 71/100\n",
      "198/198 - 0s - loss: 0.2581 - val_loss: 0.6229\n",
      "Epoch 72/100\n",
      "198/198 - 0s - loss: 0.1899 - val_loss: 1.2425\n",
      "Epoch 73/100\n",
      "198/198 - 0s - loss: 0.4103 - val_loss: 0.6041\n",
      "Epoch 74/100\n",
      "198/198 - 0s - loss: 0.1995 - val_loss: 0.8530\n",
      "Epoch 75/100\n",
      "198/198 - 0s - loss: 0.1812 - val_loss: 0.8493\n",
      "Epoch 76/100\n",
      "198/198 - 0s - loss: 0.1829 - val_loss: 0.7821\n",
      "Epoch 77/100\n",
      "198/198 - 0s - loss: 0.1975 - val_loss: 1.0622\n",
      "Epoch 78/100\n",
      "198/198 - 0s - loss: 0.3098 - val_loss: 0.6820\n",
      "Epoch 79/100\n",
      "198/198 - 0s - loss: 0.2083 - val_loss: 0.9074\n",
      "Epoch 80/100\n",
      "198/198 - 0s - loss: 0.2571 - val_loss: 0.6247\n",
      "Epoch 81/100\n",
      "198/198 - 0s - loss: 0.2083 - val_loss: 0.6706\n",
      "Epoch 82/100\n",
      "198/198 - 0s - loss: 0.1602 - val_loss: 0.7476\n",
      "Epoch 83/100\n",
      "198/198 - 0s - loss: 0.1492 - val_loss: 0.6961\n",
      "Epoch 84/100\n",
      "198/198 - 0s - loss: 0.3183 - val_loss: 0.6245\n",
      "Epoch 85/100\n",
      "198/198 - 0s - loss: 0.2026 - val_loss: 0.8684\n",
      "Epoch 86/100\n",
      "198/198 - 0s - loss: 0.1711 - val_loss: 0.7115\n",
      "Epoch 87/100\n",
      "198/198 - 0s - loss: 0.1502 - val_loss: 0.9648\n",
      "Epoch 88/100\n",
      "198/198 - 0s - loss: 0.2130 - val_loss: 0.7191\n",
      "Epoch 89/100\n",
      "198/198 - 0s - loss: 0.1868 - val_loss: 0.7367\n",
      "Epoch 90/100\n",
      "198/198 - 0s - loss: 0.1370 - val_loss: 0.7602\n",
      "Epoch 91/100\n",
      "198/198 - 0s - loss: 0.2296 - val_loss: 0.8053\n",
      "Epoch 92/100\n",
      "198/198 - 0s - loss: 0.1585 - val_loss: 0.7617\n",
      "Epoch 93/100\n",
      "198/198 - 0s - loss: 0.1133 - val_loss: 0.9170\n",
      "Epoch 94/100\n",
      "198/198 - 0s - loss: 0.1522 - val_loss: 0.7262\n",
      "Epoch 95/100\n",
      "198/198 - 0s - loss: 0.1341 - val_loss: 0.8341\n",
      "Epoch 96/100\n",
      "198/198 - 0s - loss: 0.3456 - val_loss: 0.6981\n",
      "Epoch 97/100\n",
      "198/198 - 0s - loss: 0.1367 - val_loss: 0.7776\n",
      "Epoch 98/100\n",
      "198/198 - 0s - loss: 0.1214 - val_loss: 0.9462\n",
      "Epoch 99/100\n",
      "198/198 - 0s - loss: 0.1815 - val_loss: 0.7461\n",
      "Epoch 100/100\n",
      "198/198 - 0s - loss: 0.1488 - val_loss: 0.7783\n"
     ]
    }
   ],
   "source": [
    "# Train the model, with some of the data reserved for validation\n",
    "\n",
    "history = model.fit(train_data, train_targets, epochs = 100,\n",
    "                   validation_split= 0.5, batch_size = 64, verbose= 2)"
   ]
  },
  {
   "cell_type": "code",
   "execution_count": 10,
   "metadata": {},
   "outputs": [
    {
     "name": "stdout",
     "output_type": "stream",
     "text": [
      "45/1 - 0s - loss: 0.5473\n"
     ]
    },
    {
     "data": {
      "text/plain": [
       "0.7686274111270904"
      ]
     },
     "execution_count": 10,
     "metadata": {},
     "output_type": "execute_result"
    }
   ],
   "source": [
    "# Evaluate the model on the test set\n",
    "\n",
    "model.evaluate(test_data, test_targets, verbose = 2)"
   ]
  },
  {
   "cell_type": "markdown",
   "metadata": {},
   "source": [
    "#### Plot the learning curves"
   ]
  },
  {
   "cell_type": "code",
   "execution_count": 11,
   "metadata": {},
   "outputs": [],
   "source": [
    "import matplotlib.pyplot as plt\n",
    "%matplotlib inline"
   ]
  },
  {
   "cell_type": "code",
   "execution_count": 12,
   "metadata": {},
   "outputs": [
    {
     "data": {
      "image/png": "[encoded data removed]",
      "text/plain": [
       "<Figure size 432x288 with 1 Axes>"
      ]
     },
     "metadata": {
      "needs_background": "light"
     },
     "output_type": "display_data"
    }
   ],
   "source": [
    "# Plot the training and validation loss\n",
    "\n",
    "plt.plot(history.history['loss'])\n",
    "plt.plot(history.history['val_loss'])\n",
    "plt.title('Loss vs. epochs')\n",
    "plt.ylabel('Loss')\n",
    "plt.xlabel('Epoch')\n",
    "plt.legend(['Training', 'Validation'], loc='upper right')\n",
    "plt.show()"
   ]
  },
  {
   "cell_type": "markdown",
   "metadata": {},
   "source": [
    "***\n",
    "<a id=\"coding_tutorial_2\"></a>\n",
    "## Model regularisation"
   ]
  },
  {
   "cell_type": "markdown",
   "metadata": {},
   "source": [
    "#### Adding regularisation with weight decay and dropout"
   ]
  },
  {
   "cell_type": "code",
   "execution_count": 13,
   "metadata": {},
   "outputs": [],
   "source": [
    "from tensorflow.keras.layers import Dropout\n",
    "from tensorflow.keras import regularizers"
   ]
  },
  {
   "cell_type": "code",
   "execution_count": 36,
   "metadata": {},
   "outputs": [],
   "source": [
    "def get_regularised_model(wd, rate):\n",
    "    model = Sequential([\n",
    "        Dense(128,kernel_regularizer = regularizers.l2(wd), activation=\"relu\", input_shape=(train_data.shape[1],)),\n",
    "        Dropout(rate),\n",
    "        Dense(128,kernel_regularizer = regularizers.l2(wd), activation=\"relu\"),\n",
    "        Dropout(rate),\n",
    "        Dense(128,kernel_regularizer = regularizers.l2(wd), activation=\"relu\"),\n",
    "        Dropout(rate),\n",
    "        Dense(128,kernel_regularizer = regularizers.l2(wd), activation=\"relu\"),\n",
    "        Dropout(rate),\n",
    "        Dense(128,kernel_regularizer = regularizers.l2(wd), activation=\"relu\"),\n",
    "        Dropout(rate),\n",
    "        Dense(128,kernel_regularizer = regularizers.l2(wd), activation=\"relu\"),\n",
    "        Dropout(rate),\n",
    "        Dense(1)\n",
    "    ])\n",
    "    return model"
   ]
  },
  {
   "cell_type": "code",
   "execution_count": 37,
   "metadata": {},
   "outputs": [],
   "source": [
    "# Re-build the model with weight decay and dropout layers\n",
    "\n",
    "model = get_regularised_model(1e-5, 0.3)\n"
   ]
  },
  {
   "cell_type": "code",
   "execution_count": 38,
   "metadata": {},
   "outputs": [],
   "source": [
    "# Compile the model\n",
    "\n",
    "model.compile(optimizer=\"adam\", loss= \"mse\", metrics = [\"mae\"])"
   ]
  },
  {
   "cell_type": "code",
   "execution_count": 39,
   "metadata": {},
   "outputs": [
    {
     "name": "stdout",
     "output_type": "stream",
     "text": [
      "Train on 337 samples, validate on 60 samples\n",
      "Epoch 1/100\n",
      "337/337 - 2s - loss: 1.0063 - mae: 0.8498 - val_loss: 0.9556 - val_mae: 0.8438\n",
      "Epoch 2/100\n",
      "337/337 - 0s - loss: 0.9940 - mae: 0.8455 - val_loss: 0.9260 - val_mae: 0.8316\n",
      "Epoch 3/100\n",
      "337/337 - 0s - loss: 0.9600 - mae: 0.8336 - val_loss: 0.8350 - val_mae: 0.7847\n",
      "Epoch 4/100\n",
      "337/337 - 0s - loss: 0.8625 - mae: 0.7896 - val_loss: 0.6518 - val_mae: 0.6747\n",
      "Epoch 5/100\n",
      "337/337 - 0s - loss: 0.6990 - mae: 0.6977 - val_loss: 0.5233 - val_mae: 0.5780\n",
      "Epoch 6/100\n",
      "337/337 - 0s - loss: 0.6611 - mae: 0.6533 - val_loss: 0.4803 - val_mae: 0.5522\n",
      "Epoch 7/100\n",
      "337/337 - 0s - loss: 0.6172 - mae: 0.6429 - val_loss: 0.4630 - val_mae: 0.5583\n",
      "Epoch 8/100\n",
      "337/337 - 0s - loss: 0.6212 - mae: 0.6604 - val_loss: 0.4483 - val_mae: 0.5499\n",
      "Epoch 9/100\n",
      "337/337 - 0s - loss: 0.6074 - mae: 0.6437 - val_loss: 0.4398 - val_mae: 0.5194\n",
      "Epoch 10/100\n",
      "337/337 - 0s - loss: 0.5593 - mae: 0.6138 - val_loss: 0.3979 - val_mae: 0.5167\n",
      "Epoch 11/100\n",
      "337/337 - 0s - loss: 0.5870 - mae: 0.6327 - val_loss: 0.4023 - val_mae: 0.5166\n",
      "Epoch 12/100\n",
      "337/337 - 0s - loss: 0.5941 - mae: 0.6264 - val_loss: 0.4078 - val_mae: 0.5128\n",
      "Epoch 13/100\n",
      "337/337 - 0s - loss: 0.5973 - mae: 0.6288 - val_loss: 0.4276 - val_mae: 0.5170\n",
      "Epoch 14/100\n",
      "337/337 - 0s - loss: 0.5516 - mae: 0.6190 - val_loss: 0.4306 - val_mae: 0.5439\n",
      "Epoch 15/100\n",
      "337/337 - 0s - loss: 0.5424 - mae: 0.6076 - val_loss: 0.4253 - val_mae: 0.5372\n",
      "Epoch 16/100\n",
      "337/337 - 0s - loss: 0.5531 - mae: 0.6093 - val_loss: 0.4094 - val_mae: 0.5148\n",
      "Epoch 17/100\n",
      "337/337 - 0s - loss: 0.5589 - mae: 0.6041 - val_loss: 0.4072 - val_mae: 0.5170\n",
      "Epoch 18/100\n",
      "337/337 - 0s - loss: 0.5565 - mae: 0.6136 - val_loss: 0.4168 - val_mae: 0.5335\n",
      "Epoch 19/100\n",
      "337/337 - 0s - loss: 0.5760 - mae: 0.6265 - val_loss: 0.3890 - val_mae: 0.4999\n",
      "Epoch 20/100\n",
      "337/337 - 0s - loss: 0.5760 - mae: 0.6152 - val_loss: 0.3886 - val_mae: 0.5164\n",
      "Epoch 21/100\n",
      "337/337 - 0s - loss: 0.5651 - mae: 0.6204 - val_loss: 0.3838 - val_mae: 0.5090\n",
      "Epoch 22/100\n",
      "337/337 - 0s - loss: 0.5103 - mae: 0.5752 - val_loss: 0.3652 - val_mae: 0.4955\n",
      "Epoch 23/100\n",
      "337/337 - 0s - loss: 0.5316 - mae: 0.5955 - val_loss: 0.3965 - val_mae: 0.5223\n",
      "Epoch 24/100\n",
      "337/337 - 0s - loss: 0.4936 - mae: 0.5837 - val_loss: 0.3856 - val_mae: 0.5051\n",
      "Epoch 25/100\n",
      "337/337 - 0s - loss: 0.4918 - mae: 0.5655 - val_loss: 0.3793 - val_mae: 0.4985\n",
      "Epoch 26/100\n",
      "337/337 - 0s - loss: 0.4901 - mae: 0.5636 - val_loss: 0.4016 - val_mae: 0.5180\n",
      "Epoch 27/100\n",
      "337/337 - 0s - loss: 0.4938 - mae: 0.5733 - val_loss: 0.4304 - val_mae: 0.5100\n",
      "Epoch 28/100\n",
      "337/337 - 0s - loss: 0.5335 - mae: 0.5931 - val_loss: 0.3881 - val_mae: 0.5052\n",
      "Epoch 29/100\n",
      "337/337 - 0s - loss: 0.5096 - mae: 0.5761 - val_loss: 0.4142 - val_mae: 0.5244\n",
      "Epoch 30/100\n",
      "337/337 - 0s - loss: 0.5478 - mae: 0.6036 - val_loss: 0.3936 - val_mae: 0.4962\n",
      "Epoch 31/100\n",
      "337/337 - 0s - loss: 0.5158 - mae: 0.5888 - val_loss: 0.3900 - val_mae: 0.5038\n",
      "Epoch 32/100\n",
      "337/337 - 0s - loss: 0.5060 - mae: 0.5822 - val_loss: 0.3894 - val_mae: 0.5050\n",
      "Epoch 33/100\n",
      "337/337 - 0s - loss: 0.5010 - mae: 0.5681 - val_loss: 0.3872 - val_mae: 0.5026\n",
      "Epoch 34/100\n",
      "337/337 - 0s - loss: 0.4930 - mae: 0.5618 - val_loss: 0.3820 - val_mae: 0.5003\n",
      "Epoch 35/100\n",
      "337/337 - 0s - loss: 0.4987 - mae: 0.5641 - val_loss: 0.3726 - val_mae: 0.4876\n",
      "Epoch 36/100\n",
      "337/337 - 0s - loss: 0.5075 - mae: 0.5785 - val_loss: 0.3948 - val_mae: 0.5219\n",
      "Epoch 37/100\n",
      "337/337 - 0s - loss: 0.4942 - mae: 0.5758 - val_loss: 0.3750 - val_mae: 0.4970\n",
      "Epoch 38/100\n",
      "337/337 - 0s - loss: 0.4756 - mae: 0.5628 - val_loss: 0.3671 - val_mae: 0.4860\n",
      "Epoch 39/100\n",
      "337/337 - 0s - loss: 0.4699 - mae: 0.5489 - val_loss: 0.3798 - val_mae: 0.5002\n",
      "Epoch 40/100\n",
      "337/337 - 0s - loss: 0.4748 - mae: 0.5538 - val_loss: 0.3955 - val_mae: 0.5044\n",
      "Epoch 41/100\n",
      "337/337 - 0s - loss: 0.4905 - mae: 0.5750 - val_loss: 0.4013 - val_mae: 0.5190\n",
      "Epoch 42/100\n",
      "337/337 - 0s - loss: 0.4486 - mae: 0.5454 - val_loss: 0.3941 - val_mae: 0.5130\n",
      "Epoch 43/100\n",
      "337/337 - 0s - loss: 0.4976 - mae: 0.5742 - val_loss: 0.3626 - val_mae: 0.4814\n",
      "Epoch 44/100\n",
      "337/337 - 0s - loss: 0.4742 - mae: 0.5636 - val_loss: 0.3721 - val_mae: 0.4939\n",
      "Epoch 45/100\n",
      "337/337 - 0s - loss: 0.4826 - mae: 0.5594 - val_loss: 0.4049 - val_mae: 0.5041\n",
      "Epoch 46/100\n",
      "337/337 - 0s - loss: 0.4652 - mae: 0.5520 - val_loss: 0.3913 - val_mae: 0.5059\n",
      "Epoch 47/100\n",
      "337/337 - 0s - loss: 0.4837 - mae: 0.5568 - val_loss: 0.3755 - val_mae: 0.4813\n",
      "Epoch 48/100\n",
      "337/337 - 0s - loss: 0.4712 - mae: 0.5464 - val_loss: 0.3933 - val_mae: 0.5039\n",
      "Epoch 49/100\n",
      "337/337 - 0s - loss: 0.4615 - mae: 0.5511 - val_loss: 0.4061 - val_mae: 0.5078\n",
      "Epoch 50/100\n",
      "337/337 - 0s - loss: 0.4763 - mae: 0.5583 - val_loss: 0.3999 - val_mae: 0.5063\n",
      "Epoch 51/100\n",
      "337/337 - 0s - loss: 0.4484 - mae: 0.5457 - val_loss: 0.3940 - val_mae: 0.5018\n",
      "Epoch 52/100\n",
      "337/337 - 0s - loss: 0.4460 - mae: 0.5365 - val_loss: 0.3923 - val_mae: 0.4968\n",
      "Epoch 53/100\n",
      "337/337 - 0s - loss: 0.4441 - mae: 0.5316 - val_loss: 0.3978 - val_mae: 0.5000\n",
      "Epoch 54/100\n",
      "337/337 - 0s - loss: 0.4410 - mae: 0.5458 - val_loss: 0.4256 - val_mae: 0.5335\n",
      "Epoch 55/100\n",
      "337/337 - 0s - loss: 0.4632 - mae: 0.5487 - val_loss: 0.4131 - val_mae: 0.4910\n",
      "Epoch 56/100\n",
      "337/337 - 0s - loss: 0.4937 - mae: 0.5666 - val_loss: 0.4141 - val_mae: 0.5100\n",
      "Epoch 57/100\n",
      "337/337 - 0s - loss: 0.4954 - mae: 0.5692 - val_loss: 0.4524 - val_mae: 0.5405\n",
      "Epoch 58/100\n",
      "337/337 - 0s - loss: 0.4535 - mae: 0.5438 - val_loss: 0.4264 - val_mae: 0.4955\n",
      "Epoch 59/100\n",
      "337/337 - 0s - loss: 0.4612 - mae: 0.5352 - val_loss: 0.3975 - val_mae: 0.4954\n",
      "Epoch 60/100\n",
      "337/337 - 0s - loss: 0.4709 - mae: 0.5529 - val_loss: 0.3916 - val_mae: 0.5014\n",
      "Epoch 61/100\n",
      "337/337 - 0s - loss: 0.4411 - mae: 0.5423 - val_loss: 0.3959 - val_mae: 0.4873\n",
      "Epoch 62/100\n",
      "337/337 - 0s - loss: 0.4363 - mae: 0.5195 - val_loss: 0.4069 - val_mae: 0.5182\n",
      "Epoch 63/100\n",
      "337/337 - 0s - loss: 0.4738 - mae: 0.5540 - val_loss: 0.4025 - val_mae: 0.4942\n",
      "Epoch 64/100\n",
      "337/337 - 0s - loss: 0.4491 - mae: 0.5435 - val_loss: 0.4276 - val_mae: 0.5201\n",
      "Epoch 65/100\n",
      "337/337 - 0s - loss: 0.4267 - mae: 0.5247 - val_loss: 0.4142 - val_mae: 0.5083\n",
      "Epoch 66/100\n",
      "337/337 - 0s - loss: 0.4390 - mae: 0.5308 - val_loss: 0.4373 - val_mae: 0.5408\n",
      "Epoch 67/100\n",
      "337/337 - 0s - loss: 0.4449 - mae: 0.5364 - val_loss: 0.4101 - val_mae: 0.4975\n",
      "Epoch 68/100\n",
      "337/337 - 0s - loss: 0.4472 - mae: 0.5337 - val_loss: 0.4301 - val_mae: 0.5182\n",
      "Epoch 69/100\n",
      "337/337 - 0s - loss: 0.4050 - mae: 0.5180 - val_loss: 0.4174 - val_mae: 0.5133\n",
      "Epoch 70/100\n",
      "337/337 - 0s - loss: 0.4195 - mae: 0.5279 - val_loss: 0.3825 - val_mae: 0.4836\n",
      "Epoch 71/100\n",
      "337/337 - 0s - loss: 0.4306 - mae: 0.5121 - val_loss: 0.3843 - val_mae: 0.4915\n",
      "Epoch 72/100\n",
      "337/337 - 0s - loss: 0.4277 - mae: 0.5309 - val_loss: 0.4093 - val_mae: 0.5125\n",
      "Epoch 73/100\n",
      "337/337 - 0s - loss: 0.4278 - mae: 0.5292 - val_loss: 0.3950 - val_mae: 0.4834\n",
      "Epoch 74/100\n",
      "337/337 - 0s - loss: 0.4215 - mae: 0.5243 - val_loss: 0.3993 - val_mae: 0.5003\n",
      "Epoch 75/100\n",
      "337/337 - 0s - loss: 0.3995 - mae: 0.5020 - val_loss: 0.3886 - val_mae: 0.4728\n",
      "Epoch 76/100\n",
      "337/337 - 0s - loss: 0.3876 - mae: 0.4868 - val_loss: 0.4218 - val_mae: 0.5206\n",
      "Epoch 77/100\n",
      "337/337 - 0s - loss: 0.4153 - mae: 0.5119 - val_loss: 0.4063 - val_mae: 0.5004\n",
      "Epoch 78/100\n",
      "337/337 - 0s - loss: 0.4052 - mae: 0.5101 - val_loss: 0.4133 - val_mae: 0.4960\n",
      "Epoch 79/100\n",
      "337/337 - 0s - loss: 0.4196 - mae: 0.5237 - val_loss: 0.4401 - val_mae: 0.5340\n",
      "Epoch 80/100\n",
      "337/337 - 0s - loss: 0.4101 - mae: 0.5115 - val_loss: 0.4055 - val_mae: 0.4826\n",
      "Epoch 81/100\n",
      "337/337 - 0s - loss: 0.3935 - mae: 0.5093 - val_loss: 0.4169 - val_mae: 0.5091\n",
      "Epoch 82/100\n",
      "337/337 - 0s - loss: 0.3945 - mae: 0.4909 - val_loss: 0.4094 - val_mae: 0.5143\n",
      "Epoch 83/100\n",
      "337/337 - 0s - loss: 0.4149 - mae: 0.5213 - val_loss: 0.4164 - val_mae: 0.5265\n",
      "Epoch 84/100\n",
      "337/337 - 0s - loss: 0.3879 - mae: 0.4878 - val_loss: 0.3978 - val_mae: 0.4867\n",
      "Epoch 85/100\n",
      "337/337 - 0s - loss: 0.3910 - mae: 0.4993 - val_loss: 0.3992 - val_mae: 0.4888\n",
      "Epoch 86/100\n",
      "337/337 - 0s - loss: 0.3962 - mae: 0.5063 - val_loss: 0.3941 - val_mae: 0.4877\n",
      "Epoch 87/100\n",
      "337/337 - 0s - loss: 0.4123 - mae: 0.5161 - val_loss: 0.4049 - val_mae: 0.5132\n",
      "Epoch 88/100\n",
      "337/337 - 0s - loss: 0.3990 - mae: 0.5039 - val_loss: 0.4005 - val_mae: 0.5077\n",
      "Epoch 89/100\n",
      "337/337 - 0s - loss: 0.3885 - mae: 0.4943 - val_loss: 0.3828 - val_mae: 0.4844\n",
      "Epoch 90/100\n",
      "337/337 - 0s - loss: 0.3909 - mae: 0.4962 - val_loss: 0.4081 - val_mae: 0.5246\n",
      "Epoch 91/100\n",
      "337/337 - 0s - loss: 0.3743 - mae: 0.4942 - val_loss: 0.3921 - val_mae: 0.4712\n",
      "Epoch 92/100\n",
      "337/337 - 0s - loss: 0.4071 - mae: 0.5042 - val_loss: 0.4218 - val_mae: 0.5161\n",
      "Epoch 93/100\n",
      "337/337 - 0s - loss: 0.3805 - mae: 0.4882 - val_loss: 0.4159 - val_mae: 0.5012\n",
      "Epoch 94/100\n",
      "337/337 - 0s - loss: 0.4232 - mae: 0.5246 - val_loss: 0.3999 - val_mae: 0.4886\n",
      "Epoch 95/100\n",
      "337/337 - 0s - loss: 0.3911 - mae: 0.5051 - val_loss: 0.3980 - val_mae: 0.4999\n",
      "Epoch 96/100\n",
      "337/337 - 0s - loss: 0.4026 - mae: 0.5105 - val_loss: 0.3947 - val_mae: 0.4924\n",
      "Epoch 97/100\n",
      "337/337 - 0s - loss: 0.3658 - mae: 0.4797 - val_loss: 0.4243 - val_mae: 0.5175\n",
      "Epoch 98/100\n",
      "337/337 - 0s - loss: 0.3923 - mae: 0.5014 - val_loss: 0.4104 - val_mae: 0.4944\n",
      "Epoch 99/100\n",
      "337/337 - 0s - loss: 0.3832 - mae: 0.4877 - val_loss: 0.3951 - val_mae: 0.4899\n",
      "Epoch 100/100\n",
      "337/337 - 0s - loss: 0.3612 - mae: 0.4827 - val_loss: 0.3935 - val_mae: 0.4931\n"
     ]
    }
   ],
   "source": [
    "# Train the model, with some of the data reserved for validation\n",
    "history = model.fit(train_data, train_targets, epochs = 100, validation_split = 0.15, batch_size = 64, verbose = 2)\n"
   ]
  },
  {
   "cell_type": "code",
   "execution_count": 40,
   "metadata": {},
   "outputs": [
    {
     "name": "stdout",
     "output_type": "stream",
     "text": [
      "45/1 - 0s - loss: 0.5335 - mae: 0.5533\n"
     ]
    },
    {
     "data": {
      "text/plain": [
       "[0.5405594348907471, 0.55327034]"
      ]
     },
     "execution_count": 40,
     "metadata": {},
     "output_type": "execute_result"
    }
   ],
   "source": [
    "# Evaluate the model on the test set\n",
    "\n",
    "model.evaluate(test_data, test_targets, verbose = 2)"
   ]
  },
  {
   "cell_type": "markdown",
   "metadata": {},
   "source": [
    "#### Plot the learning curves"
   ]
  },
  {
   "cell_type": "code",
   "execution_count": 41,
   "metadata": {},
   "outputs": [
    {
     "data": {
      "image/png": "[encoded data removed]",
      "text/plain": [
       "<Figure size 432x288 with 1 Axes>"
      ]
     },
     "metadata": {
      "needs_background": "light"
     },
     "output_type": "display_data"
    }
   ],
   "source": [
    "# Plot the training and validation loss\n",
    "\n",
    "import matplotlib.pyplot as plt\n",
    "\n",
    "plt.plot(history.history['loss'])\n",
    "plt.plot(history.history['val_loss'])\n",
    "plt.title('Loss vs. epochs')\n",
    "plt.ylabel('Loss')\n",
    "plt.xlabel('Epoch')\n",
    "plt.legend(['Training', 'Validation'], loc='upper right')\n",
    "plt.show()"
   ]
  },
  {
   "cell_type": "markdown",
   "metadata": {},
   "source": [
    "***\n",
    "<a id=\"coding_tutorial_3\"></a>\n",
    "## Introduction to callbacks"
   ]
  },
  {
   "cell_type": "markdown",
   "metadata": {},
   "source": [
    "#### Example training callback"
   ]
  },
  {
   "cell_type": "code",
   "execution_count": 49,
   "metadata": {},
   "outputs": [],
   "source": [
    "# Write a custom callback\n",
    "\n",
    "from tensorflow.keras.callbacks import Callback\n",
    "\n",
    "class TrainingCallback(Callback):   # training callback\n",
    "    \n",
    "    def on_train_begin(self, logs = None):\n",
    "        print(\"Starting training .....\")\n",
    "        \n",
    "    def on_epoch_begin(self, epoch, logs = None):\n",
    "        print(f\"Starting epoch {epoch}\")\n",
    "        \n",
    "    def on_train_batch_begin(self, batch, logs = None):\n",
    "        print(f\"Training: Starting batch {batch}\")\n",
    "    \n",
    "    def on_train_batch_end(self, batch, logs = None):\n",
    "        print(f\"Trainig: Finished batch {batch}\")\n",
    "        \n",
    "        \n",
    "    def on_epoch_end(self, epoch, logs = None):\n",
    "        print(f\"Finished epoch {epoch}\")\n",
    "    \n",
    "    def on_train_end(self, logs = None):\n",
    "        print(\"Finished training\")\n",
    "\n",
    "class TestingCallback(Callback):  # testing callback\n",
    "    \n",
    "    def on_test_begin(self, logs = None):\n",
    "        print(\"Starting testing .....\")\n",
    "        \n",
    "        \n",
    "    def on_test_batch_begin(self, batch, logs = None):\n",
    "        print(f\"Testing: Starting batch {batch}\")\n",
    "    \n",
    "    def on_test_batch_end(self, batch, logs = None):\n",
    "        print(f\"Testing: Finished batch {batch}\")\n",
    "        \n",
    "   \n",
    "    def on_test_end(self, logs = None):\n",
    "        print(\"Finished testing\")\n",
    "\n",
    "class PredictingCallback(Callback):  # Predicting callback\n",
    "    \n",
    "    def on_predict_begin(self, logs = None):\n",
    "        print(\"Starting predicting .....\")\n",
    "        \n",
    "        \n",
    "    def on_predict_batch_begin(self, batch, logs = None):\n",
    "        print(f\"Predicting: Starting batch {batch}\")\n",
    "    \n",
    "    def on_predict_batch_end(self, batch, logs = None):\n",
    "        print(f\"Predicting: Finished batch {batch}\")\n",
    "        \n",
    "   \n",
    "    def on_predict_end(self, logs = None):\n",
    "        print(\"Finished predicting\")"
   ]
  },
  {
   "cell_type": "code",
   "execution_count": 50,
   "metadata": {},
   "outputs": [],
   "source": [
    "# Re-build the model\n",
    "\n",
    "model = get_regularised_model(1e-5, 0.3)"
   ]
  },
  {
   "cell_type": "code",
   "execution_count": 52,
   "metadata": {},
   "outputs": [],
   "source": [
    "# Compile the model\n",
    "\n",
    "\n",
    "model.compile(optimizer = \"adam\", loss = \"mse\" )"
   ]
  },
  {
   "cell_type": "markdown",
   "metadata": {},
   "source": [
    "#### Train the model with the callback"
   ]
  },
  {
   "cell_type": "code",
   "execution_count": 53,
   "metadata": {},
   "outputs": [
    {
     "name": "stdout",
     "output_type": "stream",
     "text": [
      "Starting training .....\n",
      "Starting epoch 0\n",
      "Training: Starting batch 0\n",
      "Trainig: Finished batch 0\n",
      "Training: Starting batch 1\n",
      "Trainig: Finished batch 1\n",
      "Training: Starting batch 2\n",
      "Trainig: Finished batch 2\n",
      "Training: Starting batch 3\n",
      "Trainig: Finished batch 3\n",
      "Finished epoch 0\n",
      "Starting epoch 1\n",
      "Training: Starting batch 0\n",
      "Trainig: Finished batch 0\n",
      "Training: Starting batch 1\n",
      "Trainig: Finished batch 1\n",
      "Training: Starting batch 2\n",
      "Trainig: Finished batch 2\n",
      "Training: Starting batch 3\n",
      "Trainig: Finished batch 3\n",
      "Finished epoch 1\n",
      "Starting epoch 2\n",
      "Training: Starting batch 0\n",
      "Trainig: Finished batch 0\n",
      "Training: Starting batch 1\n",
      "Trainig: Finished batch 1\n",
      "Training: Starting batch 2\n",
      "Trainig: Finished batch 2\n",
      "Training: Starting batch 3\n",
      "Trainig: Finished batch 3\n",
      "Finished epoch 2\n",
      "Finished training\n"
     ]
    },
    {
     "data": {
      "text/plain": [
       "<tensorflow.python.keras.callbacks.History at 0x7f22ac1f6a20>"
      ]
     },
     "execution_count": 53,
     "metadata": {},
     "output_type": "execute_result"
    }
   ],
   "source": [
    "# Train the model, with some of the data reserved for validation\n",
    "model.fit(train_data, train_targets, epochs = 3,batch_size = 128,verbose = False, callbacks = [TrainingCallback()])\n"
   ]
  },
  {
   "cell_type": "code",
   "execution_count": 54,
   "metadata": {},
   "outputs": [
    {
     "name": "stdout",
     "output_type": "stream",
     "text": [
      "Starting testing .....\n",
      "Testing: Starting batch 0\n",
      "Testing: Finished batch 0\n",
      "Testing: Starting batch 1\n",
      "Testing: Finished batch 1\n",
      "45/1 - 0s - loss: 1.1081\n",
      "Finished testing\n"
     ]
    },
    {
     "data": {
      "text/plain": [
       "1.02674191792806"
      ]
     },
     "execution_count": 54,
     "metadata": {},
     "output_type": "execute_result"
    }
   ],
   "source": [
    "# Evaluate the model\n",
    "\n",
    "model.evaluate(test_data, test_targets, verbose = 2,callbacks = [TestingCallback()])"
   ]
  },
  {
   "cell_type": "code",
   "execution_count": 56,
   "metadata": {},
   "outputs": [
    {
     "data": {
      "text/plain": [
       "array([[-0.05530162],\n",
       "       [-0.07100799],\n",
       "       [ 0.00813285],\n",
       "       [ 0.00819123],\n",
       "       [ 0.00428197],\n",
       "       [-0.09120724],\n",
       "       [-0.06573185],\n",
       "       [-0.00621328],\n",
       "       [-0.00192821],\n",
       "       [-0.07230989],\n",
       "       [-0.01165536],\n",
       "       [-0.04945575],\n",
       "       [ 0.01581935],\n",
       "       [ 0.00777961],\n",
       "       [-0.0840717 ],\n",
       "       [-0.06610993],\n",
       "       [-0.03756097],\n",
       "       [ 0.01309118],\n",
       "       [-0.02832289],\n",
       "       [-0.04806517],\n",
       "       [-0.07662272],\n",
       "       [ 0.01505312],\n",
       "       [-0.03952727],\n",
       "       [-0.05188341],\n",
       "       [-0.02822164],\n",
       "       [ 0.0164925 ],\n",
       "       [-0.08298262],\n",
       "       [ 0.01422392],\n",
       "       [-0.04829859],\n",
       "       [-0.02920382],\n",
       "       [-0.03401851],\n",
       "       [ 0.00715325],\n",
       "       [-0.00058048],\n",
       "       [ 0.0019391 ],\n",
       "       [-0.05648455],\n",
       "       [-0.00722937],\n",
       "       [ 0.01788785],\n",
       "       [-0.06567617],\n",
       "       [-0.04979343],\n",
       "       [ 0.00617268],\n",
       "       [-0.08960987],\n",
       "       [-0.00693271],\n",
       "       [-0.03399764],\n",
       "       [ 0.0200421 ],\n",
       "       [-0.07875942]], dtype=float32)"
      ]
     },
     "execution_count": 56,
     "metadata": {},
     "output_type": "execute_result"
    }
   ],
   "source": [
    "# Make predictions with the model\n",
    "\n",
    "model.predict(test_data,verbose = False,callbacks = [TestingCallback()])"
   ]
  },
  {
   "cell_type": "markdown",
   "metadata": {},
   "source": [
    "***\n",
    "<a id=\"coding_tutorial_4\"></a>\n",
    "## Early stopping / patience"
   ]
  },
  {
   "cell_type": "markdown",
   "metadata": {},
   "source": [
    "#### Re-train the models with early stopping"
   ]
  },
  {
   "cell_type": "code",
   "execution_count": 66,
   "metadata": {},
   "outputs": [],
   "source": [
    "# Re-train the unregularised model\n",
    "unregularised_model = get_model()\n",
    "unregularised_model.compile(optimizer =\"adam\", loss =\"mse\")\n",
    "unreg_history = unregularised_model.fit(train_data, train_targets, epochs=100,\n",
    "                                       validation_split = 0.15, batch_size = 64, verbose = False,\n",
    "                                       callbacks =[tf.keras.callbacks.EarlyStopping(patience = 10)])\n",
    "\n",
    "\n",
    "\n"
   ]
  },
  {
   "cell_type": "code",
   "execution_count": 67,
   "metadata": {},
   "outputs": [
    {
     "name": "stdout",
     "output_type": "stream",
     "text": [
      "45/1 - 0s - loss: 0.4814\n"
     ]
    },
    {
     "data": {
      "text/plain": [
       "0.5215553257200453"
      ]
     },
     "execution_count": 67,
     "metadata": {},
     "output_type": "execute_result"
    }
   ],
   "source": [
    "# Evaluate the model on the test set\n",
    "\n",
    "unregularised_model.evaluate(test_data, test_targets,verbose = 2)"
   ]
  },
  {
   "cell_type": "code",
   "execution_count": 68,
   "metadata": {},
   "outputs": [],
   "source": [
    "# Re-train the regularised model\n",
    "\n",
    "regularised_model = get_regularised_model(1e-8, 0.2)\n",
    "regularised_model.compile(optimizer = \"adam\", loss =\"mse\")\n",
    "reg_history = regularised_model.fit(train_data, train_targets, epochs= 100,\n",
    "                                   validation_split = 0.15, batch_size = 64, verbose = False,\n",
    "                                       callbacks =[tf.keras.callbacks.EarlyStopping(patience = 10)])\n"
   ]
  },
  {
   "cell_type": "code",
   "execution_count": 69,
   "metadata": {},
   "outputs": [
    {
     "name": "stdout",
     "output_type": "stream",
     "text": [
      "45/1 - 0s - loss: 0.5027\n"
     ]
    },
    {
     "data": {
      "text/plain": [
       "0.5127893898222181"
      ]
     },
     "execution_count": 69,
     "metadata": {},
     "output_type": "execute_result"
    }
   ],
   "source": [
    "# Evaluate the model on the test set\n",
    "\n",
    "regularised_model.evaluate(test_data, test_targets, verbose = 2)"
   ]
  },
  {
   "cell_type": "markdown",
   "metadata": {},
   "source": [
    "#### Plot the learning curves"
   ]
  },
  {
   "cell_type": "code",
   "execution_count": 70,
   "metadata": {},
   "outputs": [
    {
     "data": {
      "image/png": "[encoded data removed]",
      "text/plain": [
       "<Figure size 864x360 with 2 Axes>"
      ]
     },
     "metadata": {
      "needs_background": "light"
     },
     "output_type": "display_data"
    }
   ],
   "source": [
    "# Plot the training and validation loss\n",
    "\n",
    "import matplotlib.pyplot as plt\n",
    "\n",
    "fig = plt.figure(figsize=(12, 5))\n",
    "\n",
    "fig.add_subplot(121)\n",
    "\n",
    "plt.plot(unreg_history.history['loss'])\n",
    "plt.plot(unreg_history.history['val_loss'])\n",
    "plt.title('Unregularised model: loss vs. epochs')\n",
    "plt.ylabel('Loss')\n",
    "plt.xlabel('Epoch')\n",
    "plt.legend(['Training', 'Validation'], loc='upper right')\n",
    "\n",
    "fig.add_subplot(122)\n",
    "\n",
    "plt.plot(reg_history.history['loss'])\n",
    "plt.plot(reg_history.history['val_loss'])\n",
    "plt.title('Regularised model: loss vs. epochs')\n",
    "plt.ylabel('Loss')\n",
    "plt.xlabel('Epoch')\n",
    "plt.legend(['Training', 'Validation'], loc='upper right')\n",
    "\n",
    "plt.show()"
   ]
  },
  {
   "cell_type": "code",
   "execution_count": null,
   "metadata": {},
   "outputs": [],
   "source": []
  }
 ],
 "metadata": {
  "kernelspec": {
   "display_name": "Python 3",
   "language": "python",
   "name": "python3"
  },
  "language_info": {
   "codemirror_mode": {
    "name": "ipython",
    "version": 3
   },
   "file_extension": ".py",
   "mimetype": "text/x-python",
   "name": "python",
   "nbconvert_exporter": "python",
   "pygments_lexer": "ipython3",
   "version": "3.7.1"
  }
 },
 "nbformat": 4,
 "nbformat_minor": 2
}
